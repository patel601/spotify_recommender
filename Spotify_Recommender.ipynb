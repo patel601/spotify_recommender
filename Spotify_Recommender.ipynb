{
 "cells": [
  {
   "cell_type": "markdown",
   "id": "7e4c5fda-fbba-46e1-8f36-3412383a7171",
   "metadata": {},
   "source": [
    "\n",
    "# Spotify Music Recommendation Project\n",
    "\n",
    "## Summary\n",
    "This project uses Spotify's Web API to build a personalized music recommendation system. It leverages Spotify metadata, including tracks, artists, and genres, to fetch recommendations. Additionally, it preprocesses user data and integrates pre-trained machine learning models for enhanced recommendations.\n",
    "\n",
    "### Key Features:\n",
    "- Connects to Spotify's API for track, artist, and genre information.\n",
    "- Fetches recommendations based on user preferences (tracks, artists, genres).\n",
    "- Handles errors and ensures robust API interactions.\n",
    "- Visualizes recommendation outputs and provides fallback options in case of API failures.\n",
    "\n",
    "---\n",
    "\n"
   ]
  },
  {
   "cell_type": "code",
   "execution_count": 1,
   "id": "acbc593f-3bbc-40fd-bc0d-cf299e92adf9",
   "metadata": {
    "scrolled": true
   },
   "outputs": [
    {
     "name": "stdout",
     "output_type": "stream",
     "text": [
      "Requirement already satisfied: spotipy in /opt/anaconda3/lib/python3.12/site-packages (2.24.0)\n",
      "Requirement already satisfied: boto3 in /opt/anaconda3/lib/python3.12/site-packages (1.35.90)\n",
      "Requirement already satisfied: pandas in /opt/anaconda3/lib/python3.12/site-packages (2.2.2)\n",
      "Requirement already satisfied: numpy in /opt/anaconda3/lib/python3.12/site-packages (1.26.4)\n",
      "Requirement already satisfied: scikit-learn in /opt/anaconda3/lib/python3.12/site-packages (1.4.2)\n",
      "Requirement already satisfied: torch in /opt/anaconda3/lib/python3.12/site-packages (2.5.1)\n",
      "Requirement already satisfied: transformers in /opt/anaconda3/lib/python3.12/site-packages (4.48.0.dev0)\n",
      "Requirement already satisfied: redis>=3.5.3 in /opt/anaconda3/lib/python3.12/site-packages (from spotipy) (5.2.1)\n",
      "Requirement already satisfied: requests>=2.25.0 in /opt/anaconda3/lib/python3.12/site-packages (from spotipy) (2.32.2)\n",
      "Requirement already satisfied: urllib3>=1.26.0 in /opt/anaconda3/lib/python3.12/site-packages (from spotipy) (2.2.2)\n",
      "Requirement already satisfied: botocore<1.36.0,>=1.35.90 in /opt/anaconda3/lib/python3.12/site-packages (from boto3) (1.35.90)\n",
      "Requirement already satisfied: jmespath<2.0.0,>=0.7.1 in /opt/anaconda3/lib/python3.12/site-packages (from boto3) (1.0.1)\n",
      "Requirement already satisfied: s3transfer<0.11.0,>=0.10.0 in /opt/anaconda3/lib/python3.12/site-packages (from boto3) (0.10.4)\n",
      "Requirement already satisfied: python-dateutil>=2.8.2 in /opt/anaconda3/lib/python3.12/site-packages (from pandas) (2.9.0.post0)\n",
      "Requirement already satisfied: pytz>=2020.1 in /opt/anaconda3/lib/python3.12/site-packages (from pandas) (2024.1)\n",
      "Requirement already satisfied: tzdata>=2022.7 in /opt/anaconda3/lib/python3.12/site-packages (from pandas) (2023.3)\n",
      "Requirement already satisfied: scipy>=1.6.0 in /opt/anaconda3/lib/python3.12/site-packages (from scikit-learn) (1.13.1)\n",
      "Requirement already satisfied: joblib>=1.2.0 in /opt/anaconda3/lib/python3.12/site-packages (from scikit-learn) (1.4.2)\n",
      "Requirement already satisfied: threadpoolctl>=2.0.0 in /opt/anaconda3/lib/python3.12/site-packages (from scikit-learn) (2.2.0)\n",
      "Requirement already satisfied: filelock in /opt/anaconda3/lib/python3.12/site-packages (from torch) (3.13.1)\n",
      "Requirement already satisfied: typing-extensions>=4.8.0 in /opt/anaconda3/lib/python3.12/site-packages (from torch) (4.11.0)\n",
      "Requirement already satisfied: networkx in /opt/anaconda3/lib/python3.12/site-packages (from torch) (3.2.1)\n",
      "Requirement already satisfied: jinja2 in /opt/anaconda3/lib/python3.12/site-packages (from torch) (3.1.4)\n",
      "Requirement already satisfied: fsspec in /opt/anaconda3/lib/python3.12/site-packages (from torch) (2024.3.1)\n",
      "Requirement already satisfied: setuptools in /opt/anaconda3/lib/python3.12/site-packages (from torch) (69.5.1)\n",
      "Requirement already satisfied: sympy==1.13.1 in /opt/anaconda3/lib/python3.12/site-packages (from torch) (1.13.1)\n",
      "Requirement already satisfied: mpmath<1.4,>=1.1.0 in /opt/anaconda3/lib/python3.12/site-packages (from sympy==1.13.1->torch) (1.3.0)\n",
      "Requirement already satisfied: huggingface-hub<1.0,>=0.24.0 in /opt/anaconda3/lib/python3.12/site-packages (from transformers) (0.27.0)\n",
      "Requirement already satisfied: packaging>=20.0 in /opt/anaconda3/lib/python3.12/site-packages (from transformers) (23.2)\n",
      "Requirement already satisfied: pyyaml>=5.1 in /opt/anaconda3/lib/python3.12/site-packages (from transformers) (6.0.1)\n",
      "Requirement already satisfied: regex!=2019.12.17 in /opt/anaconda3/lib/python3.12/site-packages (from transformers) (2023.10.3)\n",
      "Requirement already satisfied: tokenizers<0.22,>=0.21 in /opt/anaconda3/lib/python3.12/site-packages (from transformers) (0.21.0)\n",
      "Requirement already satisfied: safetensors>=0.4.1 in /opt/anaconda3/lib/python3.12/site-packages (from transformers) (0.4.5)\n",
      "Requirement already satisfied: tqdm>=4.27 in /opt/anaconda3/lib/python3.12/site-packages (from transformers) (4.66.4)\n",
      "Requirement already satisfied: six>=1.5 in /opt/anaconda3/lib/python3.12/site-packages (from python-dateutil>=2.8.2->pandas) (1.16.0)\n",
      "Requirement already satisfied: charset-normalizer<4,>=2 in /opt/anaconda3/lib/python3.12/site-packages (from requests>=2.25.0->spotipy) (2.0.4)\n",
      "Requirement already satisfied: idna<4,>=2.5 in /opt/anaconda3/lib/python3.12/site-packages (from requests>=2.25.0->spotipy) (3.7)\n",
      "Requirement already satisfied: certifi>=2017.4.17 in /opt/anaconda3/lib/python3.12/site-packages (from requests>=2.25.0->spotipy) (2024.8.30)\n",
      "Requirement already satisfied: MarkupSafe>=2.0 in /opt/anaconda3/lib/python3.12/site-packages (from jinja2->torch) (2.1.3)\n"
     ]
    }
   ],
   "source": [
    "!pip install spotipy boto3 pandas numpy scikit-learn torch transformers"
   ]
  },
  {
   "cell_type": "code",
   "execution_count": 7,
   "id": "06f2af3c-70cb-4592-9a13-f6e7223b6783",
   "metadata": {},
   "outputs": [],
   "source": [
    "import spotipy\n",
    "from spotipy.oauth2 import SpotifyOAuth\n",
    "import pandas as pd\n",
    "import numpy as np\n",
    "import boto3\n",
    "from sklearn.model_selection import train_test_split\n",
    "from sklearn.preprocessing import MinMaxScaler\n",
    "import torch\n",
    "import torch.nn as nn\n",
    "import torch.optim as optim\n",
    "import time\n",
    "from transformers import BertModel, BertTokenizer\n",
    "import matplotlib.pyplot as plt\n",
    "import os\n",
    "from dotenv import load_dotenv\n",
    "from pathlib import Path"
   ]
  },
  {
   "cell_type": "code",
   "execution_count": 17,
   "id": "db9846d1-10ab-48fd-9e59-d52b582ed919",
   "metadata": {},
   "outputs": [
    {
     "name": "stderr",
     "output_type": "stream",
     "text": [
      "Python-dotenv could not parse statement starting at line 5\n",
      "Python-dotenv could not parse statement starting at line 6\n",
      "Python-dotenv could not parse statement starting at line 8\n",
      "Python-dotenv could not parse statement starting at line 9\n",
      "Python-dotenv could not parse statement starting at line 14\n"
     ]
    }
   ],
   "source": [
    "load_dotenv(dotenv_path=Path.home() / \".bash_profile\")\n",
    "CLIENT_ID = os.getenv('CLIENT_ID')\n",
    "CLIENT_SECRET = CLIENT_ID = os.getenv('CLIENT_SECRET')\n",
    "REDIRECT_URI = \"http://localhost:8887/callback\""
   ]
  },
  {
   "cell_type": "code",
   "execution_count": 19,
   "id": "7916a16d-cc07-4211-93ea-2e4afb7aa282",
   "metadata": {},
   "outputs": [],
   "source": [
    "from spotipy.oauth2 import SpotifyOAuth\n",
    "\n",
    "auth_manager = SpotifyOAuth(\n",
    "    client_id=CLIENT_ID,\n",
    "    client_secret=CLIENT_SECRET,\n",
    "    redirect_uri=REDIRECT_URI,\n",
    "    scope=\"user-library-read\",\n",
    "    cache_path=None  # Disable caching\n",
    ")\n",
    "sp = spotipy.Spotify(auth_manager=auth_manager)\n",
    "\n",
    "\n",
    "# sp = spotipy.Spotify(auth_manager=SpotifyOAuth(\n",
    "#     client_id=CLIENT_ID,\n",
    "#     client_secret=CLIENT_SECRET,\n",
    "#     redirect_uri=REDIRECT_URI,\n",
    "#     scope=\"user-library-read\"\n",
    "# ))\n"
   ]
  },
  {
   "cell_type": "code",
   "execution_count": 21,
   "id": "efa7f5fd-d6e7-4fe1-92e2-6236f7573032",
   "metadata": {},
   "outputs": [
    {
     "ename": "SpotifyOauthError",
     "evalue": "error: invalid_client, error_description: Invalid client",
     "output_type": "error",
     "traceback": [
      "\u001b[0;31m---------------------------------------------------------------------------\u001b[0m",
      "\u001b[0;31mHTTPError\u001b[0m                                 Traceback (most recent call last)",
      "File \u001b[0;32m/opt/anaconda3/lib/python3.12/site-packages/spotipy/oauth2.py:578\u001b[0m, in \u001b[0;36mSpotifyOAuth.refresh_access_token\u001b[0;34m(self, refresh_token)\u001b[0m\n\u001b[1;32m    571\u001b[0m response \u001b[38;5;241m=\u001b[39m \u001b[38;5;28mself\u001b[39m\u001b[38;5;241m.\u001b[39m_session\u001b[38;5;241m.\u001b[39mpost(\n\u001b[1;32m    572\u001b[0m     \u001b[38;5;28mself\u001b[39m\u001b[38;5;241m.\u001b[39mOAUTH_TOKEN_URL,\n\u001b[1;32m    573\u001b[0m     data\u001b[38;5;241m=\u001b[39mpayload,\n\u001b[0;32m   (...)\u001b[0m\n\u001b[1;32m    576\u001b[0m     timeout\u001b[38;5;241m=\u001b[39m\u001b[38;5;28mself\u001b[39m\u001b[38;5;241m.\u001b[39mrequests_timeout,\n\u001b[1;32m    577\u001b[0m )\n\u001b[0;32m--> 578\u001b[0m response\u001b[38;5;241m.\u001b[39mraise_for_status()\n\u001b[1;32m    579\u001b[0m token_info \u001b[38;5;241m=\u001b[39m response\u001b[38;5;241m.\u001b[39mjson()\n",
      "File \u001b[0;32m/opt/anaconda3/lib/python3.12/site-packages/requests/models.py:1024\u001b[0m, in \u001b[0;36mResponse.raise_for_status\u001b[0;34m(self)\u001b[0m\n\u001b[1;32m   1023\u001b[0m \u001b[38;5;28;01mif\u001b[39;00m http_error_msg:\n\u001b[0;32m-> 1024\u001b[0m     \u001b[38;5;28;01mraise\u001b[39;00m HTTPError(http_error_msg, response\u001b[38;5;241m=\u001b[39m\u001b[38;5;28mself\u001b[39m)\n",
      "\u001b[0;31mHTTPError\u001b[0m: 400 Client Error: Bad Request for url: https://accounts.spotify.com/api/token",
      "\nDuring handling of the above exception, another exception occurred:\n",
      "\u001b[0;31mSpotifyOauthError\u001b[0m                         Traceback (most recent call last)",
      "Cell \u001b[0;32mIn[21], line 1\u001b[0m\n\u001b[0;32m----> 1\u001b[0m token_info \u001b[38;5;241m=\u001b[39m sp\u001b[38;5;241m.\u001b[39mauth_manager\u001b[38;5;241m.\u001b[39mget_cached_token()\n\u001b[1;32m      2\u001b[0m \u001b[38;5;28mprint\u001b[39m(token_info)\n",
      "File \u001b[0;32m/opt/anaconda3/lib/python3.12/site-packages/spotipy/oauth2.py:605\u001b[0m, in \u001b[0;36mSpotifyOAuth.get_cached_token\u001b[0;34m(self)\u001b[0m\n\u001b[1;32m    597\u001b[0m \u001b[38;5;28;01mdef\u001b[39;00m \u001b[38;5;21mget_cached_token\u001b[39m(\u001b[38;5;28mself\u001b[39m):\n\u001b[1;32m    598\u001b[0m     warnings\u001b[38;5;241m.\u001b[39mwarn(\u001b[38;5;124m\"\u001b[39m\u001b[38;5;124mCalling get_cached_token directly on the SpotifyOAuth object will be \u001b[39m\u001b[38;5;124m\"\u001b[39m \u001b[38;5;241m+\u001b[39m\n\u001b[1;32m    599\u001b[0m                   \u001b[38;5;124m\"\u001b[39m\u001b[38;5;124mdeprecated. Instead, please specify a CacheFileHandler instance as \u001b[39m\u001b[38;5;124m\"\u001b[39m \u001b[38;5;241m+\u001b[39m\n\u001b[1;32m    600\u001b[0m                   \u001b[38;5;124m\"\u001b[39m\u001b[38;5;124mthe cache_handler in SpotifyOAuth and use the CacheFileHandler\u001b[39m\u001b[38;5;124m'\u001b[39m\u001b[38;5;124ms \u001b[39m\u001b[38;5;124m\"\u001b[39m \u001b[38;5;241m+\u001b[39m\n\u001b[0;32m   (...)\u001b[0m\n\u001b[1;32m    603\u001b[0m                   \u001b[38;5;167;01mDeprecationWarning\u001b[39;00m\n\u001b[1;32m    604\u001b[0m                   )\n\u001b[0;32m--> 605\u001b[0m     \u001b[38;5;28;01mreturn\u001b[39;00m \u001b[38;5;28mself\u001b[39m\u001b[38;5;241m.\u001b[39mvalidate_token(\u001b[38;5;28mself\u001b[39m\u001b[38;5;241m.\u001b[39mcache_handler\u001b[38;5;241m.\u001b[39mget_cached_token())\n",
      "File \u001b[0;32m/opt/anaconda3/lib/python3.12/site-packages/spotipy/oauth2.py:371\u001b[0m, in \u001b[0;36mSpotifyOAuth.validate_token\u001b[0;34m(self, token_info)\u001b[0m\n\u001b[1;32m    368\u001b[0m     \u001b[38;5;28;01mreturn\u001b[39;00m \u001b[38;5;28;01mNone\u001b[39;00m\n\u001b[1;32m    370\u001b[0m \u001b[38;5;28;01mif\u001b[39;00m \u001b[38;5;28mself\u001b[39m\u001b[38;5;241m.\u001b[39mis_token_expired(token_info):\n\u001b[0;32m--> 371\u001b[0m     token_info \u001b[38;5;241m=\u001b[39m \u001b[38;5;28mself\u001b[39m\u001b[38;5;241m.\u001b[39mrefresh_access_token(\n\u001b[1;32m    372\u001b[0m         token_info[\u001b[38;5;124m\"\u001b[39m\u001b[38;5;124mrefresh_token\u001b[39m\u001b[38;5;124m\"\u001b[39m]\n\u001b[1;32m    373\u001b[0m     )\n\u001b[1;32m    375\u001b[0m \u001b[38;5;28;01mreturn\u001b[39;00m token_info\n",
      "File \u001b[0;32m/opt/anaconda3/lib/python3.12/site-packages/spotipy/oauth2.py:586\u001b[0m, in \u001b[0;36mSpotifyOAuth.refresh_access_token\u001b[0;34m(self, refresh_token)\u001b[0m\n\u001b[1;32m    584\u001b[0m     \u001b[38;5;28;01mreturn\u001b[39;00m token_info\n\u001b[1;32m    585\u001b[0m \u001b[38;5;28;01mexcept\u001b[39;00m requests\u001b[38;5;241m.\u001b[39mexceptions\u001b[38;5;241m.\u001b[39mHTTPError \u001b[38;5;28;01mas\u001b[39;00m http_error:\n\u001b[0;32m--> 586\u001b[0m     \u001b[38;5;28mself\u001b[39m\u001b[38;5;241m.\u001b[39m_handle_oauth_error(http_error)\n",
      "File \u001b[0;32m/opt/anaconda3/lib/python3.12/site-packages/spotipy/oauth2.py:139\u001b[0m, in \u001b[0;36mSpotifyAuthBase._handle_oauth_error\u001b[0;34m(self, http_error)\u001b[0m\n\u001b[1;32m    136\u001b[0m     error \u001b[38;5;241m=\u001b[39m response\u001b[38;5;241m.\u001b[39mtext \u001b[38;5;129;01mor\u001b[39;00m \u001b[38;5;28;01mNone\u001b[39;00m\n\u001b[1;32m    137\u001b[0m     error_description \u001b[38;5;241m=\u001b[39m \u001b[38;5;28;01mNone\u001b[39;00m\n\u001b[0;32m--> 139\u001b[0m \u001b[38;5;28;01mraise\u001b[39;00m SpotifyOauthError(\n\u001b[1;32m    140\u001b[0m     \u001b[38;5;124mf\u001b[39m\u001b[38;5;124m'\u001b[39m\u001b[38;5;124merror: \u001b[39m\u001b[38;5;132;01m{\u001b[39;00merror\u001b[38;5;132;01m}\u001b[39;00m\u001b[38;5;124m, error_description: \u001b[39m\u001b[38;5;132;01m{\u001b[39;00merror_description\u001b[38;5;132;01m}\u001b[39;00m\u001b[38;5;124m'\u001b[39m,\n\u001b[1;32m    141\u001b[0m     error\u001b[38;5;241m=\u001b[39merror,\n\u001b[1;32m    142\u001b[0m     error_description\u001b[38;5;241m=\u001b[39merror_description\n\u001b[1;32m    143\u001b[0m )\n",
      "\u001b[0;31mSpotifyOauthError\u001b[0m: error: invalid_client, error_description: Invalid client"
     ]
    }
   ],
   "source": [
    "token_info = sp.auth_manager.get_cached_token()\n",
    "print(token_info)"
   ]
  },
  {
   "cell_type": "code",
   "execution_count": 323,
   "id": "05ac44a0-ce30-4ebd-ba3a-a657e9b81dcb",
   "metadata": {},
   "outputs": [],
   "source": [
    "def fetch_tracks_with_metadata():\n",
    "    results = sp.current_user_saved_tracks()\n",
    "    tracks = []\n",
    "    for item in results['items']:\n",
    "        track = item['track']\n",
    "        artist = sp.artist(track['artists'][0]['id'])  # Fetch artist info\n",
    "        tracks.append({\n",
    "            'id': track['id'],\n",
    "            'name': track['name'],\n",
    "            'artist': track['artists'][0]['name'],\n",
    "            'popularity': track['popularity'],\n",
    "            'release_date': track['album']['release_date'],\n",
    "            'genres': artist['genres']  # List of genres\n",
    "        })\n",
    "    return tracks"
   ]
  },
  {
   "cell_type": "code",
   "execution_count": 325,
   "id": "ace62d2f-9dc3-4d28-a320-541b7e8df0c5",
   "metadata": {},
   "outputs": [
    {
     "name": "stdout",
     "output_type": "stream",
     "text": [
      "                       id                      name           artist  \\\n",
      "0  1hA697u7e1jX2XM8sWA6Uy              Apna Bana Le     Sachin-Jigar   \n",
      "1  0Jiaz0O4AqnJICa9PxHhaR        Mahiye Jinna Sohna    Darshan Raval   \n",
      "2  32BeYxKPrig1LefHsC0Xuo  Happier Than Ever - Edit    Billie Eilish   \n",
      "3  222yfkuXX3WnUYh5JKHJZH              Apna Bana Le  Aman Darya Band   \n",
      "4  7cWnks0lsRtpAi87COOiXK                 O Re Piya   Salim–Sulaiman   \n",
      "\n",
      "   popularity release_date                                             genres  \n",
      "0          73   2022-12-06            [filmi, gujarati pop, modern bollywood]  \n",
      "1          67   2023-08-09  [desi pop, filmi, gujarati pop, modern bollywood]  \n",
      "2          68   2021-07-28                                     [art pop, pop]  \n",
      "3          24   2023-04-21                                                 []  \n",
      "4          69   2007-10-18             [filmi, indian folk, modern bollywood]  \n",
      "                        id                name          artist  popularity  \\\n",
      "10  1E16f7KcZmuXuhlenRwA2m   Saibo - Lofi Flip           VIBIE          60   \n",
      "11  6uvh0In7u1Xn4HgxOfAn8O             Matilda    Harry Styles          75   \n",
      "12  5Eax0qFko2dh7Rl2lYs3bx              Efecto       Bad Bunny          79   \n",
      "13  1797zYiX4cKosMH836X9Gt        La Corriente       Bad Bunny          73   \n",
      "14  5kVZxyMY1gfdCLiChsfjn1    Yo No Soy Celoso       Bad Bunny          70   \n",
      "15  1mw0RgNXIpYRyyCdBQbLgA     Love Of My Life    Harry Styles          68   \n",
      "16  69w5X6uTrOaWM32IetSzvO         Daydreaming    Harry Styles          65   \n",
      "17  3i058E8uxTsYqJ5NWZzqSj        Little Freak    Harry Styles          71   \n",
      "18  1qEmFfgcLObUfQm0j1W2CK  Late Night Talking    Harry Styles          76   \n",
      "19  5LOiuvbH62YGtnwe6Ltt4T              Mirror  Kendrick Lamar           0   \n",
      "\n",
      "   release_date                                             genres  \n",
      "10   2021-06-18                                     [indian lo-fi]  \n",
      "11   2022-05-20                                              [pop]  \n",
      "12   2022-05-06            [reggaeton, trap latino, urbano latino]  \n",
      "13   2022-05-06            [reggaeton, trap latino, urbano latino]  \n",
      "14   2022-05-06            [reggaeton, trap latino, urbano latino]  \n",
      "15   2022-05-20                                              [pop]  \n",
      "16   2022-05-20                                              [pop]  \n",
      "17   2022-05-20                                              [pop]  \n",
      "18   2022-05-20                                              [pop]  \n",
      "19   2022-05-13  [conscious hip hop, hip hop, rap, west coast rap]  \n"
     ]
    }
   ],
   "source": [
    "tracks = fetch_tracks_with_metadata()\n",
    "df = pd.DataFrame(tracks)\n",
    "print(df.head())\n",
    "print(df.tail(10))"
   ]
  },
  {
   "cell_type": "code",
   "execution_count": 329,
   "id": "b23dfbc1-4bf9-4c0d-bc87-da2254d4f994",
   "metadata": {},
   "outputs": [],
   "source": [
    "def fetch_playlist_data():\n",
    "    playlists = sp.current_user_playlists()\n",
    "    all_tracks = []\n",
    "    for playlist in playlists['items']:\n",
    "        tracks = sp.playlist_tracks(playlist['id'])\n",
    "        for item in tracks['items']:\n",
    "            track = item['track']\n",
    "            artist = sp.artist(track['artists'][0]['id'])\n",
    "            all_tracks.append({\n",
    "                'playlist_name': playlist['name'],\n",
    "                'track_name': track['name'],\n",
    "                'artist': track['artists'][0]['name'],\n",
    "                'popularity': track['popularity'],\n",
    "                'release_date': track['album']['release_date'],\n",
    "                'genres': artist['genres']\n",
    "            })\n",
    "    return all_tracks"
   ]
  },
  {
   "cell_type": "code",
   "execution_count": 331,
   "id": "17ca8110-dcb8-446f-a083-18eb2938f722",
   "metadata": {},
   "outputs": [
    {
     "name": "stdout",
     "output_type": "stream",
     "text": [
      "  playlist_name                          track_name        artist  popularity  \\\n",
      "0      Workout                              abcdefu         GAYLE          72   \n",
      "1      Workout                             Broccoli          DRAM          47   \n",
      "2      Workout                        Nice For What         Drake          73   \n",
      "3      Workout                           Plain Jane     A$AP Ferg          68   \n",
      "4      Workout   New Freezer (feat. Kendrick Lamar)  Rich The Kid          58   \n",
      "\n",
      "  release_date                                             genres  \n",
      "0   2021-08-13                    [alt z, modern alternative pop]  \n",
      "1   2016-10-21  [trap, underground hip hop, viral trap, virgin...  \n",
      "2   2018-06-29  [canadian hip hop, canadian pop, hip hop, pop ...  \n",
      "3   2017-08-18    [hip hop, pop rap, rap, southern hip hop, trap]  \n",
      "4   2018-03-30       [atl hip hop, melodic rap, plugg, rap, trap]  \n"
     ]
    }
   ],
   "source": [
    "playlist_tracks = fetch_playlist_data()\n",
    "playlist_df = pd.DataFrame(playlist_tracks)\n",
    "print(playlist_df.head())"
   ]
  },
  {
   "cell_type": "code",
   "execution_count": 333,
   "id": "7df772e9-95f3-4439-825a-13cc7ce2939b",
   "metadata": {},
   "outputs": [],
   "source": [
    "def fetch_recommendations(seed_tracks):\n",
    "    recommendations = sp.recommendations(seed_tracks=seed_tracks, limit=10)\n",
    "    rec_tracks = []\n",
    "    for track in recommendations['tracks']:\n",
    "        rec_tracks.append({\n",
    "            'id': track['id'],\n",
    "            'name': track['name'],\n",
    "            'artist': track['artists'][0]['name'],\n",
    "            'popularity': track['popularity']\n",
    "        })\n",
    "    print(rec_tracks)\n",
    "    return rec_tracks\n"
   ]
  },
  {
   "cell_type": "code",
   "execution_count": null,
   "id": "947c6bf0-c813-4678-88b2-bdebe39be3de",
   "metadata": {},
   "outputs": [],
   "source": []
  },
  {
   "cell_type": "code",
   "execution_count": 335,
   "id": "fbe0b551-2e7d-498c-9b90-8759da67d593",
   "metadata": {},
   "outputs": [],
   "source": [
    "def preprocess_data(df):\n",
    "    features = ['popularity']  # Add more numeric features if needed\n",
    "    scaler = MinMaxScaler()\n",
    "    df[features] = scaler.fit_transform(df[features])\n",
    "    return df\n"
   ]
  },
  {
   "cell_type": "code",
   "execution_count": 337,
   "id": "2002fe60-9c2a-4dad-912b-02909bb92d6b",
   "metadata": {},
   "outputs": [
    {
     "name": "stdout",
     "output_type": "stream",
     "text": [
      "                       id                      name           artist  \\\n",
      "0  1hA697u7e1jX2XM8sWA6Uy              Apna Bana Le     Sachin-Jigar   \n",
      "1  0Jiaz0O4AqnJICa9PxHhaR        Mahiye Jinna Sohna    Darshan Raval   \n",
      "2  32BeYxKPrig1LefHsC0Xuo  Happier Than Ever - Edit    Billie Eilish   \n",
      "3  222yfkuXX3WnUYh5JKHJZH              Apna Bana Le  Aman Darya Band   \n",
      "4  7cWnks0lsRtpAi87COOiXK                 O Re Piya   Salim–Sulaiman   \n",
      "\n",
      "   popularity release_date                                             genres  \n",
      "0    0.924051   2022-12-06            [filmi, gujarati pop, modern bollywood]  \n",
      "1    0.848101   2023-08-09  [desi pop, filmi, gujarati pop, modern bollywood]  \n",
      "2    0.860759   2021-07-28                                     [art pop, pop]  \n",
      "3    0.303797   2023-04-21                                                 []  \n",
      "4    0.873418   2007-10-18             [filmi, indian folk, modern bollywood]  \n"
     ]
    }
   ],
   "source": [
    "\n",
    "normalized_df = preprocess_data(df)\n",
    "print(normalized_df.head())"
   ]
  },
  {
   "cell_type": "code",
   "execution_count": 339,
   "id": "f9b684b1-0016-4efb-9309-f3fa39260b60",
   "metadata": {},
   "outputs": [],
   "source": [
    "tokenizer = BertTokenizer.from_pretrained(\"bert-base-uncased\")\n",
    "pretrained_model = BertModel.from_pretrained(\"bert-base-uncased\")"
   ]
  },
  {
   "cell_type": "code",
   "execution_count": 341,
   "id": "e054b4c5-846f-48a4-b4e5-fee9a4c335a0",
   "metadata": {},
   "outputs": [],
   "source": [
    "class FineTunedModel(nn.Module):\n",
    "    def __init__(self, base_model, hidden_size, output_size):\n",
    "        super(FineTunedModel, self).__init__()\n",
    "        self.base_model = base_model\n",
    "        self.fc = nn.Linear(hidden_size, output_size)\n",
    "\n",
    "    def forward(self, input_ids, attention_mask):\n",
    "        outputs = self.base_model(input_ids=input_ids, attention_mask=attention_mask)\n",
    "        pooled_output = outputs.pooler_output\n",
    "        return self.fc(pooled_output)"
   ]
  },
  {
   "cell_type": "code",
   "execution_count": 343,
   "id": "a7929d12-8654-4f74-bb68-9f71b100a173",
   "metadata": {},
   "outputs": [],
   "source": [
    "# Instantiating model\n",
    "model = FineTunedModel(pretrained_model, hidden_size=768, output_size=1)\n",
    "criterion = nn.BCEWithLogitsLoss()\n",
    "optimizer = torch.optim.Adam(model.parameters(), lr=0.001)"
   ]
  },
  {
   "cell_type": "code",
   "execution_count": 345,
   "id": "039ecbbe-1efd-4403-a4c7-e73bc4511f52",
   "metadata": {},
   "outputs": [
    {
     "name": "stdout",
     "output_type": "stream",
     "text": [
      "0                             Apna Bana Le Sachin-Jigar\n",
      "1                      Mahiye Jinna Sohna Darshan Raval\n",
      "2                Happier Than Ever - Edit Billie Eilish\n",
      "3                          Apna Bana Le Aman Darya Band\n",
      "4                              O Re Piya Salim–Sulaiman\n",
      "5              Naatu Naatu (From \"Rrr\") Rahul Sipligunj\n",
      "6                  Pankhida Tu Udi Jaje Kishore Manraja\n",
      "7             Radha (From \"Jab Harry Met Sejal\") Pritam\n",
      "8     Kamariya - Garba Remix By DJ Akhil Talreja (Fr...\n",
      "9             Pehli Nazar Mein (From \"Race\") Atif Aslam\n",
      "10                              Saibo - Lofi Flip VIBIE\n",
      "11                                 Matilda Harry Styles\n",
      "12                                     Efecto Bad Bunny\n",
      "13                               La Corriente Bad Bunny\n",
      "14                           Yo No Soy Celoso Bad Bunny\n",
      "15                         Love Of My Life Harry Styles\n",
      "16                             Daydreaming Harry Styles\n",
      "17                            Little Freak Harry Styles\n",
      "18                      Late Night Talking Harry Styles\n",
      "19                                Mirror Kendrick Lamar\n",
      "dtype: object\n"
     ]
    }
   ],
   "source": [
    "text_data = normalized_df['name'] + \" \" + normalized_df['artist']\n",
    "print(text_data)\n",
    "tokens = tokenizer(list(text_data), truncation=True, padding=True, max_length=128, return_tensors=\"pt\")\n",
    "labels = torch.tensor(np.random.randint(0, 2, size=(len(text_data),)), dtype=torch.float32)"
   ]
  },
  {
   "cell_type": "code",
   "execution_count": 347,
   "id": "96c07172-9ff9-45bc-b861-f036851a3b5b",
   "metadata": {},
   "outputs": [],
   "source": [
    "train_size = int(0.8* len(tokens['input_ids']))\n",
    "input_ids_train, input_ids_test = tokens['input_ids'][:train_size], tokens['input_ids'][train_size:]\n",
    "attention_mask_train, attention_mask_test = tokens['attention_mask'][:train_size], tokens['attention_mask'][train_size:]\n",
    "labels_train, labels_test = labels[:train_size], labels[train_size:]"
   ]
  },
  {
   "cell_type": "code",
   "execution_count": 349,
   "id": "b244f67a-0467-4090-8949-b5b816531b68",
   "metadata": {},
   "outputs": [
    {
     "name": "stdout",
     "output_type": "stream",
     "text": [
      "Epoch [1/3], Loss: 0.7092\n",
      "Epoch [2/3], Loss: 0.6735\n",
      "Epoch [3/3], Loss: 0.9809\n"
     ]
    },
    {
     "data": {
      "image/png": "[encoded data removed]",
      "text/plain": [
       "<Figure size 1000x600 with 1 Axes>"
      ]
     },
     "metadata": {},
     "output_type": "display_data"
    }
   ],
   "source": [
    "epochs = 3\n",
    "loss_values = []\n",
    "for epoch in range(epochs):\n",
    "    model.train()\n",
    "    optimizer.zero_grad()\n",
    "    outputs = model(input_ids_train, attention_mask_train).squeeze()\n",
    "    loss = criterion(outputs, labels_train)\n",
    "    loss.backward()\n",
    "    optimizer.step()\n",
    "    loss_values.append(loss.item()) \n",
    "    print(f\"Epoch [{epoch+1}/{epochs}], Loss: {loss.item():.4f}\")\n",
    "\n",
    "\n",
    "# Visualize the Loss\n",
    "plt.figure(figsize=(10, 6))\n",
    "plt.plot(range(1, epochs + 1), loss_values, marker='o', linestyle='-', color='b')\n",
    "plt.title(\"Training Loss Over Epochs\")\n",
    "plt.xlabel(\"Epoch\")\n",
    "plt.ylabel(\"Loss\")\n",
    "plt.grid(True)\n",
    "plt.show()"
   ]
  },
  {
   "cell_type": "code",
   "execution_count": 351,
   "id": "6179dc60-9e86-4c48-9c7c-c388b18ea1a3",
   "metadata": {},
   "outputs": [],
   "source": [
    "def get_recommendations(seed_tracks):\n",
    "    recommendations = sp.recommendations(seed_tracks=seed_tracks, limit=10)\n",
    "    rec_tracks = []\n",
    "    for track in recommendations['tracks']:\n",
    "        rec_tracks.append({\n",
    "            'id': track['id'],\n",
    "            'name': track['name'],\n",
    "            'artist': track['artist'],\n",
    "            'popularity': track['popularity']\n",
    "        })\n",
    "    return rec_tracks\n",
    "\n",
    "\n",
    "def fetch_recommendations_safe(seed_tracks=None, seed_artists=None, seed_genres=None):\n",
    "    try:\n",
    "        recommendations = sp.recommendations(seed_tracks=seed_tracks, seed_artists=seed_artists, seed_genres=seed_genres, limit=10)\n",
    "        if not recommendations['tracks']:\n",
    "            print(\"No recommendations found.\")\n",
    "            return []\n",
    "        return recommendations['tracks']\n",
    "    except spotipy.exceptions.SpotifyException as e:\n",
    "        print(f\"Error: {e}\")\n",
    "        return []\n"
   ]
  },
  {
   "cell_type": "code",
   "execution_count": 355,
   "id": "5f6fe494-3a86-4c1e-9b19-1dd4bb1dbc7d",
   "metadata": {},
   "outputs": [
    {
     "name": "stderr",
     "output_type": "stream",
     "text": [
      "HTTP Error for GET to https://api.spotify.com/v1/recommendations with Params: {'limit': 10, 'seed_tracks': '4iV5W9uYEdYUVa79Axb7Rh'} returned 404 due to None\n"
     ]
    },
    {
     "name": "stdout",
     "output_type": "stream",
     "text": [
      "Error: http status: 404, code:-1 - https://api.spotify.com/v1/recommendations?limit=10&seed_tracks=4iV5W9uYEdYUVa79Axb7Rh:\n",
      " None, reason: None\n",
      "Empty DataFrame\n",
      "Columns: []\n",
      "Index: []\n"
     ]
    }
   ],
   "source": [
    "seed_tracks = [\"4iV5W9uYEdYUVa79Axb7Rh\"]  # Replace with valid track IDs\n",
    "recommendations = fetch_recommendations_safe(seed_tracks)\n",
    "recommendation_df = pd.DataFrame(recommendations)\n",
    "print(recommendation_df.head())\n"
   ]
  },
  {
   "cell_type": "code",
   "execution_count": 292,
   "id": "3eea3342-f9ca-4201-be96-688213e07917",
   "metadata": {},
   "outputs": [
    {
     "name": "stdout",
     "output_type": "stream",
     "text": [
      "Track Name: Prelude for Piano No. 11 in F-Sharp Minor, Artist: Eduard Abramyan\n",
      "Artist Name: Taylor Swift, Genres: ['pop']\n"
     ]
    }
   ],
   "source": [
    "# Validate a track ID\n",
    "try:\n",
    "    track = sp.track(\"4iV5W9uYEdYUVa79Axb7Rh\")\n",
    "    print(f\"Track Name: {track['name']}, Artist: {track['artists'][0]['name']}\")\n",
    "except spotipy.exceptions.SpotifyException as e:\n",
    "    print(f\"Error: {e}\")\n",
    "\n",
    "# Validate an artist ID\n",
    "try:\n",
    "    artist = sp.artist(\"06HL4z0CvFAxyc27GXpf02\")\n",
    "    print(f\"Artist Name: {artist['name']}, Genres: {artist['genres']}\")\n",
    "except spotipy.exceptions.SpotifyException as e:\n",
    "    print(f\"Error: {e}\")\n"
   ]
  }
 ],
 "metadata": {
  "kernelspec": {
   "display_name": "Python 3 (ipykernel)",
   "language": "python",
   "name": "python3"
  },
  "language_info": {
   "codemirror_mode": {
    "name": "ipython",
    "version": 3
   },
   "file_extension": ".py",
   "mimetype": "text/x-python",
   "name": "python",
   "nbconvert_exporter": "python",
   "pygments_lexer": "ipython3",
   "version": "3.12.4"
  }
 },
 "nbformat": 4,
 "nbformat_minor": 5
}
